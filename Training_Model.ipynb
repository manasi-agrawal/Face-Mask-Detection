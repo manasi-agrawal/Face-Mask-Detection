{
 "cells": [
  {
   "cell_type": "code",
   "execution_count": 2,
   "metadata": {},
   "outputs": [],
   "source": [
    "#import all the libraries\n",
    "\n",
    "import os\n",
    "import zipfile\n",
    "import random\n",
    "import shutil\n",
    "import tensorflow as tf\n",
    "from tensorflow.keras.optimizers import RMSprop\n",
    "from tensorflow.keras.preprocessing.image import ImageDataGenerator\n",
    "from shutil import copyfile\n",
    "from os import getcwd\n",
    "from os import listdir\n",
    "import cv2\n",
    "from tensorflow.keras.layers import Conv2D, Input, ZeroPadding2D, BatchNormalization, Activation, MaxPooling2D, Flatten, Dense\n",
    "from tensorflow.keras.models import Model, load_model\n",
    "from tensorflow.keras.callbacks import TensorBoard, ModelCheckpoint\n",
    "from sklearn.model_selection import train_test_split\n",
    "from sklearn.metrics import f1_score\n",
    "from sklearn.utils import shuffle\n",
    "import imutils\n",
    "import numpy as np\n",
    "import matplotlib.pyplot as plt\n",
    "import matplotlib.image  as mpimg"
   ]
  },
  {
   "cell_type": "code",
   "execution_count": 11,
   "metadata": {},
   "outputs": [
    {
     "name": "stdout",
     "output_type": "stream",
     "text": [
      "The number of images labelled 'mask': 2606\n",
      "The number of images labelled 'no_mask': 2616\n"
     ]
    }
   ],
   "source": [
    "#data is in two categories: \"mask\" and \"no mask\"\n",
    "#print total number o fimages in ecah category\n",
    "\n",
    "print(\"The number of images labelled 'mask':\",len(os.listdir('dataset/source/mask')))\n",
    "print(\"The number of images labelled 'no_mask':\",len(os.listdir('dataset/source/no_mask')))"
   ]
  },
  {
   "cell_type": "code",
   "execution_count": 6,
   "metadata": {},
   "outputs": [],
   "source": [
    "#split_data function is defined to randomly split the source into train and test dataset\n",
    "#each category is randomly split in the ratio 3:1\n",
    "\n",
    "def split_data(SOURCE, TRAINING, TESTING, SPLIT_SIZE):\n",
    "\n",
    "    dataset = []  \n",
    "\n",
    "    for unitData in os.listdir(SOURCE):\n",
    "\n",
    "        data = SOURCE + unitData\n",
    "\n",
    "        if(os.path.getsize(data) > 0):\n",
    "            dataset.append(unitData)\n",
    "\n",
    "        else:\n",
    "            print('Skipped ' + unitData)\n",
    "            print('Invalid file i.e zero size')  \n",
    "\n",
    "    train_set_length = int(len(dataset) * SPLIT_SIZE)\n",
    "    test_set_length = int(len(dataset) - train_set_length)\n",
    "    shuffled_set = random.sample(dataset, len(dataset))\n",
    "\n",
    "    train_set = dataset[0:train_set_length]\n",
    "    test_set = dataset[-test_set_length:]     \n",
    "\n",
    "    for unitData in train_set:\n",
    "\n",
    "        temp_train_set = SOURCE + unitData\n",
    "        final_train_set = TRAINING + unitData\n",
    "        copyfile(temp_train_set, final_train_set)  \n",
    "\n",
    "    for unitData in test_set:\n",
    "\n",
    "        temp_test_set = SOURCE + unitData\n",
    "        final_test_set = TESTING + unitData\n",
    "        copyfile(temp_test_set, final_test_set)\n",
    "\n",
    "        #give path of source directory and train & test directory where images will be stores after splitting\n",
    "\n",
    "WITHMASK_SOURCE_DIR = \"dataset/source/mask/\"\n",
    "TRAINING_WITHMASK_DIR = \"dataset/train/mask/\"\n",
    "TESTING_WITHMASK_DIR = \"dataset/test/mask/\"\n",
    "\n",
    "WITHOUTMASK_SOURCE_DIR = \"dataset/source/no_mask/\"\n",
    "TRAINING_WITHOUTMASK_DIR = \"dataset/train/no_mask/\"\n",
    "TESTING_WITHOUTMASK_DIR = \"dataset/test/no_mask/\"\n",
    "\n",
    "#specify the split size as 0.75:0.25\n",
    "split_size = .75\n",
    "\n",
    "split_data(WITHMASK_SOURCE_DIR, TRAINING_WITHMASK_DIR, TESTING_WITHMASK_DIR, split_size)\n",
    "split_data(WITHOUTMASK_SOURCE_DIR, TRAINING_WITHOUTMASK_DIR, TESTING_WITHOUTMASK_DIR, split_size)"
   ]
  },
  {
   "cell_type": "code",
   "execution_count": 8,
   "metadata": {},
   "outputs": [
    {
     "name": "stdout",
     "output_type": "stream",
     "text": [
      "Total Images in each category: \n",
      "Training: 'Mask':  1954\n",
      "Testing: 'Mask':  652\n",
      "Training: 'No Mask':  1962\n",
      "Testing: 'No Mask':  654\n"
     ]
    }
   ],
   "source": [
    "print(\"Total Images in each category: \")\n",
    "\n",
    "print(\"Training: 'Mask': \", len(os.listdir('dataset/train/mask/')))\n",
    "\n",
    "print(\"Testing: 'Mask': \", len(os.listdir('dataset/test/mask/')))\n",
    "\n",
    "print(\"Training: 'No Mask': \", len(os.listdir('dataset/train/no_mask/')))\n",
    "\n",
    "print(\"Testing: 'No Mask': \", len(os.listdir('dataset/test/no_mask/')))"
   ]
  },
  {
   "cell_type": "code",
   "execution_count": 12,
   "metadata": {},
   "outputs": [],
   "source": [
    "#build a cnn model with two convolution layers\n",
    "\n",
    "model = tf.keras.models.Sequential([\n",
    "    tf.keras.layers.Conv2D(100, (3,3), activation='relu', input_shape=(150, 150, 3)),\n",
    "    tf.keras.layers.MaxPooling2D(2,2),\n",
    "    tf.keras.layers.Conv2D(100, (3,3), activation='relu'),\n",
    "    tf.keras.layers.MaxPooling2D(2,2),\n",
    "    \n",
    "    tf.keras.layers.Flatten(),\n",
    "    tf.keras.layers.Dropout(0.5),\n",
    "    tf.keras.layers.Dense(50, activation='relu'),\n",
    "    tf.keras.layers.Dense(2, activation='softmax')\n",
    "])\n",
    "\n",
    "\n",
    "#compile the model using optimizer and give \"accuracy\" as the metric to measure\n",
    "model.compile(optimizer='adam', loss='binary_crossentropy', metrics=['acc'])"
   ]
  },
  {
   "cell_type": "code",
   "execution_count": 13,
   "metadata": {},
   "outputs": [
    {
     "name": "stdout",
     "output_type": "stream",
     "text": [
      "Found 3916 images belonging to 2 classes.\n",
      "Found 1306 images belonging to 2 classes.\n"
     ]
    }
   ],
   "source": [
    "#use image data generator to augment data \n",
    "\n",
    "TRAINING_DIR = \"dataset/train/\"\n",
    "\n",
    "#read training images from train directory and augment the data by using different parameters\n",
    "train_datagen = ImageDataGenerator(rescale=1.0/255,\n",
    "                                   rotation_range=40,\n",
    "                                   width_shift_range=0.2,\n",
    "                                   height_shift_range=0.2,\n",
    "                                   shear_range=0.2,\n",
    "                                   zoom_range=0.2,\n",
    "                                   horizontal_flip=True,\n",
    "                                   fill_mode='nearest')\n",
    "\n",
    "train_generator = train_datagen.flow_from_directory(TRAINING_DIR, \n",
    "                                                    batch_size=64, \n",
    "                                                    target_size=(150, 150))\n",
    "\n",
    "VALIDATION_DIR = \"dataset/test/\"\n",
    "\n",
    "#read validation images from test directory and normalize the data\n",
    "validation_datagen = ImageDataGenerator(rescale=1.0/255)\n",
    "\n",
    " \n",
    "validation_generator = validation_datagen.flow_from_directory(VALIDATION_DIR, \n",
    "                                                              batch_size=64, \n",
    "                                                              target_size=(150, 150))\n",
    "\n",
    "#add callback and checkpoint\n",
    "\n",
    "checkpoint = ModelCheckpoint('model-{epoch:03d}.model',monitor='val_loss',verbose=0,save_best_only=True,mode='auto')"
   ]
  },
  {
   "cell_type": "code",
   "execution_count": 14,
   "metadata": {},
   "outputs": [
    {
     "name": "stdout",
     "output_type": "stream",
     "text": [
      "WARNING:tensorflow:From <ipython-input-14-3f1d29843302>:6: Model.fit_generator (from tensorflow.python.keras.engine.training) is deprecated and will be removed in a future version.\n",
      "Instructions for updating:\n",
      "Please use Model.fit, which supports generators.\n",
      "WARNING:tensorflow:sample_weight modes were coerced from\n",
      "  ...\n",
      "    to  \n",
      "  ['...']\n",
      "WARNING:tensorflow:sample_weight modes were coerced from\n",
      "  ...\n",
      "    to  \n",
      "  ['...']\n",
      "Train for 123 steps, validate for 41 steps\n",
      "Epoch 1/30\n",
      " 60/123 [=============>................] - ETA: 57s - loss: 0.6832 - acc: 0.6837"
     ]
    },
    {
     "name": "stderr",
     "output_type": "stream",
     "text": [
      "C:\\Users\\Ranjana\\anaconda3\\envs\\tf-env\\lib\\site-packages\\PIL\\Image.py:961: UserWarning: Palette images with Transparency expressed in bytes should be converted to RGBA images\n",
      "  \"Palette images with Transparency expressed in bytes should be \"\n"
     ]
    },
    {
     "name": "stdout",
     "output_type": "stream",
     "text": [
      "122/123 [============================>.] - ETA: 0s - loss: 0.5166 - acc: 0.7698WARNING:tensorflow:From C:\\Users\\Ranjana\\anaconda3\\envs\\tf-env\\lib\\site-packages\\tensorflow_core\\python\\ops\\resource_variable_ops.py:1786: calling BaseResourceVariable.__init__ (from tensorflow.python.ops.resource_variable_ops) with constraint is deprecated and will be removed in a future version.\n",
      "Instructions for updating:\n",
      "If using Keras pass *_constraint arguments to layers.\n",
      "INFO:tensorflow:Assets written to: model-001.model\\assets\n",
      "123/123 [==============================] - 124s 1s/step - loss: 0.5160 - acc: 0.7699 - val_loss: 0.1880 - val_acc: 0.9387\n",
      "Epoch 2/30\n",
      "123/123 [==============================] - 126s 1s/step - loss: 0.3657 - acc: 0.8475 - val_loss: 0.1920 - val_acc: 0.9326\n",
      "Epoch 3/30\n",
      "122/123 [============================>.] - ETA: 0s - loss: 0.3331 - acc: 0.8659INFO:tensorflow:Assets written to: model-003.model\\assets\n",
      "123/123 [==============================] - 129s 1s/step - loss: 0.3333 - acc: 0.8657 - val_loss: 0.1831 - val_acc: 0.9418\n",
      "Epoch 4/30\n",
      "122/123 [============================>.] - ETA: 0s - loss: 0.2924 - acc: 0.8808INFO:tensorflow:Assets written to: model-004.model\\assets\n",
      "123/123 [==============================] - 130s 1s/step - loss: 0.2916 - acc: 0.8810 - val_loss: 0.1401 - val_acc: 0.9587\n",
      "Epoch 5/30\n",
      "122/123 [============================>.] - ETA: 0s - loss: 0.2792 - acc: 0.8921INFO:tensorflow:Assets written to: model-005.model\\assets\n",
      "123/123 [==============================] - 131s 1s/step - loss: 0.2806 - acc: 0.8920 - val_loss: 0.1261 - val_acc: 0.9548\n",
      "Epoch 6/30\n",
      "123/123 [==============================] - 130s 1s/step - loss: 0.2812 - acc: 0.8851 - val_loss: 0.1595 - val_acc: 0.9487\n",
      "Epoch 7/30\n",
      "123/123 [==============================] - 131s 1s/step - loss: 0.2688 - acc: 0.8899 - val_loss: 0.1447 - val_acc: 0.9579\n",
      "Epoch 8/30\n",
      "123/123 [==============================] - 131s 1s/step - loss: 0.2840 - acc: 0.8861 - val_loss: 0.1477 - val_acc: 0.9495\n",
      "Epoch 9/30\n",
      "123/123 [==============================] - 131s 1s/step - loss: 0.2644 - acc: 0.8925 - val_loss: 0.1368 - val_acc: 0.9541\n",
      "Epoch 10/30\n",
      "123/123 [==============================] - 131s 1s/step - loss: 0.2490 - acc: 0.8999 - val_loss: 0.1379 - val_acc: 0.9525\n",
      "Epoch 11/30\n",
      "123/123 [==============================] - 131s 1s/step - loss: 0.2520 - acc: 0.8976 - val_loss: 0.1328 - val_acc: 0.9594\n",
      "Epoch 12/30\n",
      "123/123 [==============================] - 132s 1s/step - loss: 0.2255 - acc: 0.9070 - val_loss: 0.1288 - val_acc: 0.9594\n",
      "Epoch 13/30\n",
      "122/123 [============================>.] - ETA: 0s - loss: 0.2545 - acc: 0.8983INFO:tensorflow:Assets written to: model-013.model\\assets\n",
      "123/123 [==============================] - 133s 1s/step - loss: 0.2531 - acc: 0.8991 - val_loss: 0.1042 - val_acc: 0.9678\n",
      "Epoch 14/30\n",
      "123/123 [==============================] - 131s 1s/step - loss: 0.2306 - acc: 0.9063 - val_loss: 0.1480 - val_acc: 0.9502\n",
      "Epoch 15/30\n",
      "123/123 [==============================] - 132s 1s/step - loss: 0.2391 - acc: 0.9058 - val_loss: 0.1255 - val_acc: 0.9617\n",
      "Epoch 16/30\n",
      "123/123 [==============================] - 131s 1s/step - loss: 0.2362 - acc: 0.9045 - val_loss: 0.1284 - val_acc: 0.9541\n",
      "Epoch 17/30\n",
      "122/123 [============================>.] - ETA: 1s - loss: 0.2282 - acc: 0.9058INFO:tensorflow:Assets written to: model-017.model\\assets\n",
      "123/123 [==============================] - 209s 2s/step - loss: 0.2275 - acc: 0.9060 - val_loss: 0.0958 - val_acc: 0.9694\n",
      "Epoch 18/30\n",
      "123/123 [==============================] - 193s 2s/step - loss: 0.2306 - acc: 0.9063 - val_loss: 0.1430 - val_acc: 0.9541\n",
      "Epoch 19/30\n",
      "123/123 [==============================] - 157s 1s/step - loss: 0.2136 - acc: 0.9185 - val_loss: 0.1276 - val_acc: 0.9533\n",
      "Epoch 20/30\n",
      "123/123 [==============================] - 122s 990ms/step - loss: 0.2090 - acc: 0.9168 - val_loss: 0.1177 - val_acc: 0.9602\n",
      "Epoch 21/30\n",
      "122/123 [============================>.] - ETA: 0s - loss: 0.2140 - acc: 0.9166INFO:tensorflow:Assets written to: model-021.model\\assets\n",
      "123/123 [==============================] - 122s 995ms/step - loss: 0.2149 - acc: 0.9165 - val_loss: 0.0895 - val_acc: 0.9701\n",
      "Epoch 22/30\n",
      "123/123 [==============================] - 119s 964ms/step - loss: 0.2108 - acc: 0.9124 - val_loss: 0.0930 - val_acc: 0.9663\n",
      "Epoch 23/30\n",
      "123/123 [==============================] - 118s 962ms/step - loss: 0.1912 - acc: 0.9224 - val_loss: 0.1302 - val_acc: 0.9609\n",
      "Epoch 24/30\n",
      "123/123 [==============================] - 119s 964ms/step - loss: 0.1961 - acc: 0.9185 - val_loss: 0.1186 - val_acc: 0.9571\n",
      "Epoch 25/30\n",
      "123/123 [==============================] - 119s 968ms/step - loss: 0.1947 - acc: 0.9155 - val_loss: 0.1014 - val_acc: 0.9717\n",
      "Epoch 26/30\n",
      "122/123 [============================>.] - ETA: 0s - loss: 0.1876 - acc: 0.9269INFO:tensorflow:Assets written to: model-026.model\\assets\n",
      "123/123 [==============================] - 120s 976ms/step - loss: 0.1871 - acc: 0.9267 - val_loss: 0.0862 - val_acc: 0.9747\n",
      "Epoch 27/30\n",
      "123/123 [==============================] - 116s 940ms/step - loss: 0.1920 - acc: 0.9249 - val_loss: 0.0942 - val_acc: 0.9717\n",
      "Epoch 28/30\n",
      "123/123 [==============================] - 115s 937ms/step - loss: 0.1806 - acc: 0.9272 - val_loss: 0.0910 - val_acc: 0.9732\n",
      "Epoch 29/30\n",
      "123/123 [==============================] - 116s 941ms/step - loss: 0.1900 - acc: 0.9290 - val_loss: 0.1164 - val_acc: 0.9594\n",
      "Epoch 30/30\n",
      "123/123 [==============================] - 119s 964ms/step - loss: 0.1819 - acc: 0.9272 - val_loss: 0.1038 - val_acc: 0.9686\n"
     ]
    }
   ],
   "source": [
    "#train the model for 30 epochs\n",
    "history = model.fit_generator(train_generator,\n",
    "                              epochs=30,\n",
    "                              validation_data=validation_generator,\n",
    "                              callbacks=[checkpoint])\n",
    "\n",
    "#save the model\n",
    "model.save('my_model_facemask.h5')"
   ]
  },
  {
   "cell_type": "code",
   "execution_count": 15,
   "metadata": {},
   "outputs": [
    {
     "data": {
      "image/png": "[encoded data removed]",
      "text/plain": [
       "<Figure size 432x288 with 1 Axes>"
      ]
     },
     "metadata": {
      "needs_background": "light"
     },
     "output_type": "display_data"
    },
    {
     "data": {
      "image/png": "[encoded data removed]",
      "text/plain": [
       "<Figure size 432x288 with 1 Axes>"
      ]
     },
     "metadata": {
      "needs_background": "light"
     },
     "output_type": "display_data"
    }
   ],
   "source": [
    "#plot the accuracy and loss graphs based on training\n",
    "\n",
    "import matplotlib.pyplot as plt\n",
    "acc = history.history['acc']\n",
    "val_acc = history.history['val_acc']\n",
    "loss = history.history['loss']\n",
    "val_loss = history.history['val_loss']\n",
    "\n",
    "\n",
    "epochs = range(len(acc))\n",
    "\n",
    "plt.plot(epochs, acc, 'r', label='Training accuracy')\n",
    "plt.plot(epochs, val_acc, 'b', label='Validation accuracy')\n",
    "plt.title('Training and validation accuracy')\n",
    "plt.legend()\n",
    "plt.figure()\n",
    "\n",
    "plt.plot(epochs, loss, 'r', label='Training Loss')\n",
    "plt.plot(epochs, val_loss, 'b', label='Validation Loss')\n",
    "plt.title('Training and validation loss')\n",
    "plt.legend()\n",
    "\n",
    "plt.show()\n"
   ]
  },
  {
   "cell_type": "code",
   "execution_count": null,
   "metadata": {},
   "outputs": [],
   "source": []
  }
 ],
 "metadata": {
  "kernelspec": {
   "display_name": "Python 3",
   "language": "python",
   "name": "python3"
  },
  "language_info": {
   "codemirror_mode": {
    "name": "ipython",
    "version": 3
   },
   "file_extension": ".py",
   "mimetype": "text/x-python",
   "name": "python",
   "nbconvert_exporter": "python",
   "pygments_lexer": "ipython3",
   "version": "3.6.10"
  }
 },
 "nbformat": 4,
 "nbformat_minor": 4
}
